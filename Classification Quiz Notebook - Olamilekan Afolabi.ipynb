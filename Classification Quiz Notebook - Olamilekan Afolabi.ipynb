{
 "cells": [
  {
   "cell_type": "markdown",
   "metadata": {},
   "source": [
    "## Stage C Classification - Quiz Code"
   ]
  },
  {
   "cell_type": "code",
   "execution_count": 1,
   "metadata": {},
   "outputs": [],
   "source": [
    "#importing libraries\n",
    "import numpy as np\n",
    "import pandas as pd"
   ]
  },
  {
   "cell_type": "code",
   "execution_count": 2,
   "metadata": {},
   "outputs": [
    {
     "data": {
      "text/html": [
       "<div>\n",
       "<style scoped>\n",
       "    .dataframe tbody tr th:only-of-type {\n",
       "        vertical-align: middle;\n",
       "    }\n",
       "\n",
       "    .dataframe tbody tr th {\n",
       "        vertical-align: top;\n",
       "    }\n",
       "\n",
       "    .dataframe thead th {\n",
       "        text-align: right;\n",
       "    }\n",
       "</style>\n",
       "<table border=\"1\" class=\"dataframe\">\n",
       "  <thead>\n",
       "    <tr style=\"text-align: right;\">\n",
       "      <th></th>\n",
       "      <th>tau1</th>\n",
       "      <th>tau2</th>\n",
       "      <th>tau3</th>\n",
       "      <th>tau4</th>\n",
       "      <th>p1</th>\n",
       "      <th>p2</th>\n",
       "      <th>p3</th>\n",
       "      <th>p4</th>\n",
       "      <th>g1</th>\n",
       "      <th>g2</th>\n",
       "      <th>g3</th>\n",
       "      <th>g4</th>\n",
       "      <th>stab</th>\n",
       "      <th>stabf</th>\n",
       "    </tr>\n",
       "  </thead>\n",
       "  <tbody>\n",
       "    <tr>\n",
       "      <th>0</th>\n",
       "      <td>2.959060</td>\n",
       "      <td>3.079885</td>\n",
       "      <td>8.381025</td>\n",
       "      <td>9.780754</td>\n",
       "      <td>3.763085</td>\n",
       "      <td>-0.782604</td>\n",
       "      <td>-1.257395</td>\n",
       "      <td>-1.723086</td>\n",
       "      <td>0.650456</td>\n",
       "      <td>0.859578</td>\n",
       "      <td>0.887445</td>\n",
       "      <td>0.958034</td>\n",
       "      <td>0.055347</td>\n",
       "      <td>unstable</td>\n",
       "    </tr>\n",
       "    <tr>\n",
       "      <th>1</th>\n",
       "      <td>9.304097</td>\n",
       "      <td>4.902524</td>\n",
       "      <td>3.047541</td>\n",
       "      <td>1.369357</td>\n",
       "      <td>5.067812</td>\n",
       "      <td>-1.940058</td>\n",
       "      <td>-1.872742</td>\n",
       "      <td>-1.255012</td>\n",
       "      <td>0.413441</td>\n",
       "      <td>0.862414</td>\n",
       "      <td>0.562139</td>\n",
       "      <td>0.781760</td>\n",
       "      <td>-0.005957</td>\n",
       "      <td>stable</td>\n",
       "    </tr>\n",
       "    <tr>\n",
       "      <th>2</th>\n",
       "      <td>8.971707</td>\n",
       "      <td>8.848428</td>\n",
       "      <td>3.046479</td>\n",
       "      <td>1.214518</td>\n",
       "      <td>3.405158</td>\n",
       "      <td>-1.207456</td>\n",
       "      <td>-1.277210</td>\n",
       "      <td>-0.920492</td>\n",
       "      <td>0.163041</td>\n",
       "      <td>0.766689</td>\n",
       "      <td>0.839444</td>\n",
       "      <td>0.109853</td>\n",
       "      <td>0.003471</td>\n",
       "      <td>unstable</td>\n",
       "    </tr>\n",
       "    <tr>\n",
       "      <th>3</th>\n",
       "      <td>0.716415</td>\n",
       "      <td>7.669600</td>\n",
       "      <td>4.486641</td>\n",
       "      <td>2.340563</td>\n",
       "      <td>3.963791</td>\n",
       "      <td>-1.027473</td>\n",
       "      <td>-1.938944</td>\n",
       "      <td>-0.997374</td>\n",
       "      <td>0.446209</td>\n",
       "      <td>0.976744</td>\n",
       "      <td>0.929381</td>\n",
       "      <td>0.362718</td>\n",
       "      <td>0.028871</td>\n",
       "      <td>unstable</td>\n",
       "    </tr>\n",
       "    <tr>\n",
       "      <th>4</th>\n",
       "      <td>3.134112</td>\n",
       "      <td>7.608772</td>\n",
       "      <td>4.943759</td>\n",
       "      <td>9.857573</td>\n",
       "      <td>3.525811</td>\n",
       "      <td>-1.125531</td>\n",
       "      <td>-1.845975</td>\n",
       "      <td>-0.554305</td>\n",
       "      <td>0.797110</td>\n",
       "      <td>0.455450</td>\n",
       "      <td>0.656947</td>\n",
       "      <td>0.820923</td>\n",
       "      <td>0.049860</td>\n",
       "      <td>unstable</td>\n",
       "    </tr>\n",
       "  </tbody>\n",
       "</table>\n",
       "</div>"
      ],
      "text/plain": [
       "       tau1      tau2      tau3      tau4        p1        p2        p3  \\\n",
       "0  2.959060  3.079885  8.381025  9.780754  3.763085 -0.782604 -1.257395   \n",
       "1  9.304097  4.902524  3.047541  1.369357  5.067812 -1.940058 -1.872742   \n",
       "2  8.971707  8.848428  3.046479  1.214518  3.405158 -1.207456 -1.277210   \n",
       "3  0.716415  7.669600  4.486641  2.340563  3.963791 -1.027473 -1.938944   \n",
       "4  3.134112  7.608772  4.943759  9.857573  3.525811 -1.125531 -1.845975   \n",
       "\n",
       "         p4        g1        g2        g3        g4      stab     stabf  \n",
       "0 -1.723086  0.650456  0.859578  0.887445  0.958034  0.055347  unstable  \n",
       "1 -1.255012  0.413441  0.862414  0.562139  0.781760 -0.005957    stable  \n",
       "2 -0.920492  0.163041  0.766689  0.839444  0.109853  0.003471  unstable  \n",
       "3 -0.997374  0.446209  0.976744  0.929381  0.362718  0.028871  unstable  \n",
       "4 -0.554305  0.797110  0.455450  0.656947  0.820923  0.049860  unstable  "
      ]
     },
     "execution_count": 2,
     "metadata": {},
     "output_type": "execute_result"
    }
   ],
   "source": [
    "#load dataset\n",
    "data = pd.read_csv('Data_for_UCI_named.csv')\n",
    "data.head()"
   ]
  },
  {
   "cell_type": "code",
   "execution_count": 3,
   "metadata": {},
   "outputs": [
    {
     "name": "stdout",
     "output_type": "stream",
     "text": [
      "(10000, 14)\n"
     ]
    },
    {
     "data": {
      "text/plain": [
       "unstable    6380\n",
       "stable      3620\n",
       "Name: stabf, dtype: int64"
      ]
     },
     "execution_count": 3,
     "metadata": {},
     "output_type": "execute_result"
    }
   ],
   "source": [
    "print(data.shape)\n",
    "data['stabf'].value_counts()"
   ]
  },
  {
   "cell_type": "code",
   "execution_count": 4,
   "metadata": {},
   "outputs": [],
   "source": [
    "#define predictors and response variable\n",
    "x = data.drop(['stabf', 'stab'], axis=1)\n",
    "y = data['stabf']"
   ]
  },
  {
   "cell_type": "code",
   "execution_count": 5,
   "metadata": {},
   "outputs": [
    {
     "data": {
      "text/plain": [
       "unstable    1288\n",
       "stable       712\n",
       "Name: stabf, dtype: int64"
      ]
     },
     "execution_count": 5,
     "metadata": {},
     "output_type": "execute_result"
    }
   ],
   "source": [
    "from sklearn.model_selection import train_test_split\n",
    "x_train, x_test, y_train, y_test = train_test_split(x, y, test_size=0.2, random_state=1)\n",
    "y_test.value_counts()"
   ]
  },
  {
   "cell_type": "code",
   "execution_count": 6,
   "metadata": {},
   "outputs": [],
   "source": [
    "#Standardize training set\n",
    "from sklearn.preprocessing import StandardScaler\n",
    "stan = StandardScaler()\n",
    "x_train_transformed = stan.fit_transform(x_train)\n",
    "x_test_transformed = stan.transform(x_test)"
   ]
  },
  {
   "cell_type": "markdown",
   "metadata": {},
   "source": [
    "### Train Models"
   ]
  },
  {
   "cell_type": "code",
   "execution_count": 45,
   "metadata": {},
   "outputs": [],
   "source": [
    "#Train RandomForestClassifier\n",
    "from sklearn.ensemble import RandomForestClassifier\n",
    "rfc = RandomForestClassifier(random_state=1)\n",
    "rfc.fit(x_train_transformed, y_train)\n",
    "rfc_predict = rfc.predict(x_test_transformed)"
   ]
  },
  {
   "cell_type": "code",
   "execution_count": 8,
   "metadata": {},
   "outputs": [],
   "source": [
    "#Train with ExtraTreesClassifier\n",
    "from sklearn.ensemble import ExtraTreesClassifier\n",
    "ex_trees= ExtraTreesClassifier(random_state=1)\n",
    "ex_trees.fit(x_train_transformed, y_train)\n",
    "ex_trees_predict = ex_trees.predict(x_test_transformed)"
   ]
  },
  {
   "cell_type": "code",
   "execution_count": 10,
   "metadata": {},
   "outputs": [],
   "source": [
    "#Hyperparameter Tuning Using RandomizedSearchCV on ExtraTreesClassifier\n",
    "from sklearn.model_selection import RandomizedSearchCV\n",
    "n_estimators = [50, 100, 300, 500, 1000]\n",
    "min_samples_split = [2, 3, 5, 7, 9]\n",
    "min_samples_leaf = [1, 2, 4, 6, 8]\n",
    "max_features = ['auto', 'sqrt', 'log2', None]\n",
    "hyperparameter_grid = {'n_estimators': n_estimators,\n",
    "'min_samples_leaf': min_samples_leaf,\n",
    "'min_samples_split': min_samples_split,\n",
    "'max_features': max_features}\n",
    "clf1 = RandomizedSearchCV(ExtraTreesClassifier(random_state=1), hyperparameter_grid, random_state=1)\n",
    "search = clf1.fit(x_train_transformed, y_train)\n",
    "search_predict = clf1.predict(x_test_transformed)"
   ]
  },
  {
   "cell_type": "code",
   "execution_count": 28,
   "metadata": {},
   "outputs": [
    {
     "data": {
      "text/plain": [
       "dict_values([1000, 2, 8, None])"
      ]
     },
     "execution_count": 28,
     "metadata": {},
     "output_type": "execute_result"
    }
   ],
   "source": [
    "search.best_params_.values()"
   ]
  },
  {
   "cell_type": "code",
   "execution_count": 43,
   "metadata": {},
   "outputs": [],
   "source": [
    "#Train XGBClassifier\n",
    "from xgboost import XGBClassifier\n",
    "xgb = XGBClassifier(random_state=1)\n",
    "xgb.fit(x_train_transformed, y_train)\n",
    "xgb_predict = xgb.predict(x_test_transformed)"
   ]
  },
  {
   "cell_type": "code",
   "execution_count": 15,
   "metadata": {},
   "outputs": [],
   "source": [
    "#Train LGBMClassifier\n",
    "from lightgbm import LGBMClassifier\n",
    "gboost = LGBMClassifier(random_state=1)\n",
    "gboost.fit(x_train_transformed, y_train)\n",
    "gboost_predict = gboost.predict(x_test_transformed)"
   ]
  },
  {
   "cell_type": "markdown",
   "metadata": {},
   "source": [
    "### Evaluation of Models on Test Set"
   ]
  },
  {
   "cell_type": "markdown",
   "metadata": {},
   "source": [
    "#### Evaluating RandomForestClassifier"
   ]
  },
  {
   "cell_type": "code",
   "execution_count": 16,
   "metadata": {},
   "outputs": [
    {
     "name": "stdout",
     "output_type": "stream",
     "text": [
      "RandomForestClassifier_Accuracy: 93.0\n",
      "RandomForestClassifier_Precision: 92.0\n",
      "RandomForestClassifier_Recall: 88.0\n",
      "RandomForestClassifier_F1 Score: 90.0\n"
     ]
    }
   ],
   "source": [
    "#import classification prediction metrics\n",
    "from sklearn.metrics import accuracy_score, precision_score, confusion_matrix, recall_score, f1_score\n",
    "\n",
    "#Confusion Matrix\n",
    "rfc_cfn_mat = confusion_matrix(y_true=y_test, y_pred=rfc_predict, labels=['stable', 'unstable'])\n",
    "rfc_cfn_mat\n",
    "\n",
    "#Accuracy\n",
    "rfc_accuracy = accuracy_score(y_true=y_test, y_pred=rfc_predict)\n",
    "print('RandomForestClassifier_Accuracy: {}'.format(round(rfc_accuracy*100), 2))\n",
    "\n",
    "#Precision\n",
    "rfc_precision = precision_score(y_true=y_test, y_pred=rfc_predict, pos_label='stable')\n",
    "print('RandomForestClassifier_Precision: {}'.format(round(rfc_precision*100), 2))\n",
    "\n",
    "#Recall\n",
    "rfc_recall = recall_score(y_true=y_test, y_pred=rfc_predict, pos_label='stable')\n",
    "print('RandomForestClassifier_Recall: {}'.format(round(rfc_recall*100), 2))\n",
    "\n",
    "#F1 Score\n",
    "rfc_f1 = f1_score(y_true=y_test, y_pred=rfc_predict, pos_label='stable')\n",
    "print('RandomForestClassifier_F1 Score: {}'.format(round(rfc_f1*100), 2))"
   ]
  },
  {
   "cell_type": "code",
   "execution_count": 40,
   "metadata": {},
   "outputs": [
    {
     "name": "stdout",
     "output_type": "stream",
     "text": [
      "RandomForestClassifier_Accuracy: {} 0.929\n"
     ]
    }
   ],
   "source": [
    "rfc_accuracy = accuracy_score(y_true=y_test, y_pred=rfc_predict)\n",
    "print('RandomForestClassifier_Accuracy: {}', rfc_accuracy.round(4))"
   ]
  },
  {
   "cell_type": "markdown",
   "metadata": {},
   "source": [
    "#### Evaluating ExtraTreesClassifier"
   ]
  },
  {
   "cell_type": "code",
   "execution_count": 17,
   "metadata": {},
   "outputs": [
    {
     "name": "stdout",
     "output_type": "stream",
     "text": [
      "RandomForestClassifier_Accuracy: 93.0\n",
      "RandomForestClassifier_Precision: 94.0\n",
      "RandomForestClassifier_Recall: 85.0\n",
      "RandomForestClassifier_F1 Score: 89.0\n"
     ]
    }
   ],
   "source": [
    "#Confusion Matrix\n",
    "ex_trees_cfn_mat = confusion_matrix(y_true=y_test, y_pred=ex_trees_predict, labels=['stable', 'unstable'])\n",
    "ex_trees_cfn_mat\n",
    "\n",
    "#Accuracy\n",
    "ex_trees_accuracy = accuracy_score(y_true=y_test, y_pred=ex_trees_predict)\n",
    "print('RandomForestClassifier_Accuracy: {}'.format(round(ex_trees_accuracy*100), 2))\n",
    "\n",
    "#Precision\n",
    "ex_trees_precision = precision_score(y_true=y_test, y_pred=ex_trees_predict, pos_label='stable')\n",
    "print('RandomForestClassifier_Precision: {}'.format(round(ex_trees_precision*100), 2))\n",
    "\n",
    "#Recall\n",
    "ex_trees_recall = recall_score(y_true=y_test, y_pred=ex_trees_predict, pos_label='stable')\n",
    "print('RandomForestClassifier_Recall: {}'.format(round(ex_trees_recall*100), 2))\n",
    "\n",
    "#F1 Score\n",
    "ex_trees_f1 = f1_score(y_true=y_test, y_pred=ex_trees_predict, pos_label='stable')\n",
    "print('RandomForestClassifier_F1 Score: {}'.format(round(ex_trees_f1*100), 2))"
   ]
  },
  {
   "cell_type": "markdown",
   "metadata": {},
   "source": [
    "#### Evaluating Improved ExtraTreesClassifier (RandomizedSearchCV)"
   ]
  },
  {
   "cell_type": "code",
   "execution_count": 18,
   "metadata": {},
   "outputs": [
    {
     "name": "stdout",
     "output_type": "stream",
     "text": [
      "ExtraTreesClassifier(RandomizedSearchCV)_Accuracy: 93.0\n",
      "ExtraTreesClassifier(RandomizedSearchCV)_Precision: 92.0\n",
      "ExtraTreesClassifier(RandomizedSearchCV)_Recall: 87.0\n",
      "ExtraTreesClassifier(RandomizedSearchCV)_F1 Score: 89.0\n"
     ]
    }
   ],
   "source": [
    "#Confusion Matrix\n",
    "search_cfn_mat = confusion_matrix(y_true=y_test, y_pred=search_predict, labels=['stable', 'unstable'])\n",
    "search_cfn_mat\n",
    "\n",
    "#Accuracy\n",
    "search_accuracy = accuracy_score(y_true=y_test, y_pred=search_predict)\n",
    "print('ExtraTreesClassifier(RandomizedSearchCV)_Accuracy: {}'.format(round(search_accuracy*100), 2))\n",
    "\n",
    "#Precision\n",
    "search_precision = precision_score(y_true=y_test, y_pred=search_predict, pos_label='stable')\n",
    "print('ExtraTreesClassifier(RandomizedSearchCV)_Precision: {}'.format(round(search_precision*100), 2))\n",
    "\n",
    "#Recall\n",
    "search_recall = recall_score(y_true=y_test, y_pred=search_predict, pos_label='stable')\n",
    "print('ExtraTreesClassifier(RandomizedSearchCV)_Recall: {}'.format(round(search_recall*100), 2))\n",
    "\n",
    "#F1 Score\n",
    "search_f1 = f1_score(y_true=y_test, y_pred=search_predict, pos_label='stable')\n",
    "print('ExtraTreesClassifier(RandomizedSearchCV)_F1 Score: {}'.format(round(search_f1*100), 2))"
   ]
  },
  {
   "cell_type": "markdown",
   "metadata": {},
   "source": [
    "#### Evaluating XGBClassifier"
   ]
  },
  {
   "cell_type": "code",
   "execution_count": 19,
   "metadata": {},
   "outputs": [
    {
     "name": "stdout",
     "output_type": "stream",
     "text": [
      "XGBClassifier_Accuracy: 95.0\n",
      "XGBClassifier_Precision: 94.0\n",
      "XGBClassifier_Recall: 91.0\n",
      "XGBClassifier_F1 Score: 92.0\n"
     ]
    }
   ],
   "source": [
    "#Confusion Matrix\n",
    "xgb_cfn_mat = confusion_matrix(y_true=y_test, y_pred=xgb_predict, labels=['stable', 'unstable'])\n",
    "xgb_cfn_mat\n",
    "\n",
    "#Accuracy\n",
    "xgb_accuracy = accuracy_score(y_true=y_test, y_pred=xgb_predict)\n",
    "print('XGBClassifier_Accuracy: {}'.format(round(xgb_accuracy*100), 2))\n",
    "\n",
    "#Precision\n",
    "xgb_precision = precision_score(y_true=y_test, y_pred=xgb_predict, pos_label='stable')\n",
    "print('XGBClassifier_Precision: {}'.format(round(xgb_precision*100), 2))\n",
    "\n",
    "#Recall\n",
    "xgb_recall = recall_score(y_true=y_test, y_pred=xgb_predict, pos_label='stable')\n",
    "print('XGBClassifier_Recall: {}'.format(round(xgb_recall*100), 2))\n",
    "\n",
    "#F1 Score\n",
    "xgb_f1 = f1_score(y_true=y_test, y_pred=xgb_predict, pos_label='stable')\n",
    "print('XGBClassifier_F1 Score: {}'.format(round(xgb_f1*100), 2))"
   ]
  },
  {
   "cell_type": "code",
   "execution_count": 44,
   "metadata": {},
   "outputs": [
    {
     "name": "stdout",
     "output_type": "stream",
     "text": [
      "XGBClassifier_Accuracy: {} 0.9455\n"
     ]
    }
   ],
   "source": [
    "#Accuracy\n",
    "xgb_accuracy = accuracy_score(y_true=y_test, y_pred=xgb_predict)\n",
    "print('XGBClassifier_Accuracy: {}', xgb_accuracy.round(4))"
   ]
  },
  {
   "cell_type": "markdown",
   "metadata": {},
   "source": [
    "#### Evaluating LGBMClassifier"
   ]
  },
  {
   "cell_type": "code",
   "execution_count": 20,
   "metadata": {},
   "outputs": [
    {
     "name": "stdout",
     "output_type": "stream",
     "text": [
      "LGBMClassifier_Accuracy: 94.0\n",
      "LGBMClassifier_Precision: 93.0\n",
      "LGBMClassifier_Recall: 89.0\n",
      "LGBMClassifier_F1 Score: 91.0\n"
     ]
    }
   ],
   "source": [
    "#Confusion Matrix\n",
    "gboost_cfn_mat = confusion_matrix(y_true=y_test, y_pred=gboost_predict, labels=['stable', 'unstable'])\n",
    "xgb_cfn_mat\n",
    "\n",
    "#Accuracy\n",
    "gboost_accuracy = accuracy_score(y_true=y_test, y_pred=gboost_predict)\n",
    "print('LGBMClassifier_Accuracy: {}'.format(round(gboost_accuracy*100), 2))\n",
    "\n",
    "#Precision\n",
    "gboost_precision = precision_score(y_true=y_test, y_pred=gboost_predict, pos_label='stable')\n",
    "print('LGBMClassifier_Precision: {}'.format(round(gboost_precision*100), 2))\n",
    "\n",
    "#Recall\n",
    "gboost_recall = recall_score(y_true=y_test, y_pred=gboost_predict, pos_label='stable')\n",
    "print('LGBMClassifier_Recall: {}'.format(round(gboost_recall*100), 2))\n",
    "\n",
    "#F1 Score\n",
    "gboost_f1 = f1_score(y_true=y_test, y_pred=gboost_predict, pos_label='stable')\n",
    "print('LGBMClassifier_F1 Score: {}'.format(round(gboost_f1*100), 2))"
   ]
  },
  {
   "cell_type": "code",
   "execution_count": 27,
   "metadata": {},
   "outputs": [
    {
     "name": "stdout",
     "output_type": "stream",
     "text": [
      "LGBMClassifier_Accuracy: {} 0.9375\n"
     ]
    }
   ],
   "source": [
    "#Accuracy\n",
    "gboost_accuracy = accuracy_score(y_true=y_test, y_pred=gboost_predict)\n",
    "print('LGBMClassifier_Accuracy: {}', gboost_accuracy)"
   ]
  },
  {
   "cell_type": "code",
   "execution_count": null,
   "metadata": {},
   "outputs": [],
   "source": []
  },
  {
   "cell_type": "code",
   "execution_count": null,
   "metadata": {},
   "outputs": [],
   "source": []
  }
 ],
 "metadata": {
  "kernelspec": {
   "display_name": "Python 3",
   "language": "python",
   "name": "python3"
  },
  "language_info": {
   "codemirror_mode": {
    "name": "ipython",
    "version": 3
   },
   "file_extension": ".py",
   "mimetype": "text/x-python",
   "name": "python",
   "nbconvert_exporter": "python",
   "pygments_lexer": "ipython3",
   "version": "3.6.5"
  }
 },
 "nbformat": 4,
 "nbformat_minor": 2
}
